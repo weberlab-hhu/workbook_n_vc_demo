{
 "cells": [
  {
   "cell_type": "markdown",
   "id": "54858ef0",
   "metadata": {},
   "source": [
    "# A 5-10 min intro to mixing markdown and code + version control\n",
    "\n",
    "### Alisandra Denton\n",
    "\n",
    "### 2022.03.02"
   ]
  },
  {
   "cell_type": "markdown",
   "id": "7a860f79",
   "metadata": {},
   "source": [
    "## 1. Why? An ever-recurring hypothetical\n",
    "\n",
    "- You do something important and good and usefull\n",
    "- It sits around for a while (waiting on another aspect of the project, write-up, on review, etc)\n",
    "- Something small needs to change, while everything else is kept _exactly_ the same\n",
    "  - If your documentation and organzation is not good enough, this is now _harder_ than doing it from scratch."
   ]
  },
  {
   "cell_type": "markdown",
   "id": "c44986d1",
   "metadata": {},
   "source": [
    "### Plotting example \n",
    "\n",
    "\n",
    "#### let's imagine\n",
    "\n",
    "- you have a clustering plot like the following as 'figure 1' in a word document\n",
    "- collaborator or reviewer asks you to use a color-blind friendly color scale\n",
    "- if you can't find the script, or _which_ script exactly created figure 1\n",
    "  - you have to match the _exact_ filter threshold, and the _exact_ scaling, etc... (via trial and error, **potentially very hard**)\n",
    "  - then plot and change the color (**easy**)\n",
    "     \n",
    "![Alt text](data/heatmap.png \"a title\")\n",
    "\n",
    "\n",
    "##### we're now worse off effort-wise than if this hadn't been plotted to start with; yet iterative progress and intermittent feedback and revision are inherent to science\n"
   ]
  },
  {
   "cell_type": "markdown",
   "id": "6a956737",
   "metadata": {},
   "source": [
    "## 2. How to make this better? Jupyter notebook & co.\n",
    "\n",
    "Beyond \"get organized\" / making organization easier\n",
    "\n",
    "- get everything in one place\n",
    "- linked / auto-updating\n",
    "- re-run everything (feasible) before inclusion/hand-over\n",
    "\n",
    "In general, any combination of markdown & code (e.g. RMarkdown), with what-you-see is what-you-get can help. Jupyter is just the largest."
   ]
  },
  {
   "cell_type": "markdown",
   "id": "1982293e",
   "metadata": {},
   "source": [
    "### Improved plotting example\n",
    "\n",
    "> Use the markdown for context such as background and aim\n",
    "\n",
    "#### Background\n",
    "\n",
    "The data used here are borrowed from: \n",
    "\n",
    "Dominik Brilhaus, Andrea Bräutigam, Tabea Mettler-Altmann, Klaus Winter, Andreas P.M. Weber, Reversible Burst of Transcriptional Changes during Induction of Crassulacean Acid Metabolism in _Talinum triangulare_, _Plant Physiology_, Volume 170, Issue 1, January 2016, Pages 102–122, https://doi.org/10.1104/pp.15.01076\n",
    "\n",
    "and as previously included in the DataAnalysis course\n",
    "\n",
    "#### Aim\n",
    "Convince you to work on analysis reproducibility before it is too late.\n",
    "\n",
    "#### Pre-processing\n",
    "> Markdown allows for explicit, in-place, and copy-paste friendly documentation of\n",
    "> anything non-python that needs to be done.\n",
    "\n",
    "\n",
    "The following pre-processing was performed. **you must re-run this in bash if the data has been updated**\n",
    "\n",
    "```bash\n",
    "cat data/Talinum_Data.tsv |sed 's/\\t/,/g' > data/Talinum_Data.csv\n",
    "```\n",
    "\n",
    "#### Data import, processing, and plotting\n",
    "> The python below is not just documentation, it directly runs"
   ]
  },
  {
   "cell_type": "code",
   "execution_count": null,
   "id": "db419b89",
   "metadata": {},
   "outputs": [],
   "source": [
    "# import and setup standard data analysis libraries\n",
    "import pandas as pd\n",
    "import numpy as np\n",
    "import matplotlib.pyplot as plt\n",
    "import seaborn as sns\n",
    "%matplotlib inline"
   ]
  },
  {
   "cell_type": "markdown",
   "id": "6d787381",
   "metadata": {},
   "source": [
    "> note that the data here is _linked_, if data/Talinum_Data.csv changes\n",
    "> the results change as soon as this is ran\n",
    "> You can link many things, e.g. importing your own code that you need\n",
    "> for multiple different notebooks"
   ]
  },
  {
   "cell_type": "code",
   "execution_count": null,
   "id": "004d5c4e",
   "metadata": {},
   "outputs": [],
   "source": [
    "# read in data\n",
    "talinum = pd.read_csv('data/Talinum_Data.csv')\n",
    "n_tal = np.array(talinum.iloc[:, 4:])\n",
    "# filter\n",
    "n_tal = n_tal[np.min(n_tal, axis=1) > 10, ]"
   ]
  },
  {
   "cell_type": "markdown",
   "id": "d4e728bf",
   "metadata": {},
   "source": [
    "> We can also extract and auto-update numbers we might want elsewhere\n",
    "> (e.g. in the main text of a paper)"
   ]
  },
  {
   "cell_type": "code",
   "execution_count": null,
   "id": "c5bf198a",
   "metadata": {},
   "outputs": [],
   "source": [
    "f\"{n_tal.shape[0]} transcripts passed filter\""
   ]
  },
  {
   "cell_type": "code",
   "execution_count": null,
   "id": "c7fc64e1",
   "metadata": {},
   "outputs": [],
   "source": [
    "# center\n",
    "s_tal = n_tal.T - np.mean(n_tal, axis=1)\n",
    "# scale \n",
    "s_tal = (s_tal / np.std(s_tal, axis=0)).T\n",
    "# plot\n",
    "sns.clustermap(s_tal, cmap='RdYlGn_r', figsize=(7, 7))"
   ]
  },
  {
   "cell_type": "markdown",
   "id": "8474c071",
   "metadata": {},
   "source": [
    "#### Conclusions\n",
    "- This is about the Notebooks, not good plotting practice. Label your plots. \n",
    "- We've seen \n",
    "  - all-in-one \n",
    "  - dynamic linking\n",
    "- We still need\n",
    "  - re-run everything before hand over! (effectiveness of tools _always_ depend on _how_ you use them)\n",
    "- Versioning has been demo-ed below\n",
    "\n",
    "- Tools help when known and used purposefully\n",
    "\n",
    "\n",
    "\n",
    "- If this sounds potentially useful\n",
    "  - sign your name in at https://pad.hhu.de/PKZLgy04RXSviobTq8luxQ?both# or respond to the Teams thread\n",
    "  - remember it is possible and google \"jupyter notebook\" and \"github\" when you need it\n"
   ]
  },
  {
   "cell_type": "markdown",
   "id": "e4861d03",
   "metadata": {},
   "source": [
    "## 3. Version Control\n",
    "\n",
    "###  Versioning example\n",
    "\n",
    "#### Let's imagine you have the following files\n",
    "```\n",
    "project_notebook.ipynb \n",
    "project_notebookB_v1.ipynb \n",
    "project_notebookB_v10.ipynb \n",
    "project_notebookB_v11.ipynb \n",
    "project_notebookB_v2.ipynb \n",
    "project_notebookB_v3.ipynb \n",
    "project_notebookB_v4.ipynb \n",
    "project_notebookB_v5.ipynb \n",
    "project_notebookB_v6.ipynb \n",
    "project_notebookB_v7.ipynb \n",
    "project_notebookB_v8.ipynb \n",
    "project_notebookB_v9.ipynb \n",
    "project_notebookB_v11_publication_ready.ipynb \n",
    "project_notebookfinal.ipynb\n",
    "project_notebookfinalFINAL.ipynb\n",
    "project_notebookfinalFINAL_v2.ipynb\n",
    "project_notebookfinalFINAL_v2_AD.ipynb\n",
    "project_notebooknew.ipynb\n",
    "```\n",
    "\n",
    "Nice that everything is linked _inside_ each notebook, \n",
    "but this is still going to be tedious as can be to change anything...\n",
    "\n",
    "But you also don't want to just _delete_ them, in case\n",
    "you have to come back to something"
   ]
  },
  {
   "cell_type": "markdown",
   "id": "c86a33da",
   "metadata": {},
   "source": [
    "### Improved versioning example \n",
    "\n",
    "Version control allows you to maintain, annotate, compare and \n",
    "switch between snap shots of a project and all files. \n",
    "\n",
    " - comparison works best for text-based files. \n",
    " - snapshots and their annotation work regardless\n",
    " - _you_ control the snapshots, and they _do not_ auto-delete\n",
    " - `git` is the most used tool, with 'github.com' and 'gitlab.com' being major cloud providers. Here we can also use 'git.hhu.de'\n",
    " \n",
    "now you only have\n",
    "\n",
    "```\n",
    "project_notebook.ipynb\n",
    "```\n",
    "\n",
    "With alternative versions thereof in version control. **See example: https://github.com/weberlab-hhu/workbook_n_vc_demo**"
   ]
  }
 ],
 "metadata": {
  "kernelspec": {
   "display_name": "Python 3 (ipykernel)",
   "language": "python",
   "name": "python3"
  },
  "language_info": {
   "codemirror_mode": {
    "name": "ipython",
    "version": 3
   },
   "file_extension": ".py",
   "mimetype": "text/x-python",
   "name": "python",
   "nbconvert_exporter": "python",
   "pygments_lexer": "ipython3",
   "version": "3.8.10"
  }
 },
 "nbformat": 4,
 "nbformat_minor": 5
}
